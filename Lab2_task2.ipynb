{
 "cells": [
  {
   "cell_type": "code",
   "execution_count": 1,
   "metadata": {},
   "outputs": [],
   "source": [
    "\"\"\"\n",
    "This script provides an example of building a neural\n",
    "network for classifying glass identification dataset on\n",
    "http://archive.ics.uci.edu/ml/datasets/Glass+Identification\n",
    "It loads data using a data loader, and trains a neural\n",
    "network with batch training.\n",
    "\"\"\"\n",
    "\n",
    "# import libraries\n",
    "import numpy as np\n",
    "import pandas as pd\n",
    "import torch\n",
    "import torch.nn as nn\n",
    "import torch.utils.data\n",
    "from torch.autograd import Variable\n",
    "\n",
    "# Hyper Parameters\n",
    "input_size = 10\n",
    "hidden_size = 50\n",
    "num_classes = 7\n",
    "num_epochs = 500\n",
    "batch_size = 10\n",
    "learning_rate = 0.01\n",
    "\n",
    "\n",
    "# define a function to plot confusion matrix\n",
    "def plot_confusion(input_sample, num_classes, des_output, actual_output):\n",
    "    confusion = torch.zeros(num_classes, num_classes)\n",
    "    for i in range(input_sample):\n",
    "        actual_class = actual_output[i]\n",
    "        predicted_class = des_output[i]\n",
    "\n",
    "        confusion[actual_class][predicted_class] += 1\n",
    "\n",
    "    return confusion\n",
    "\n"
   ]
  },
  {
   "cell_type": "code",
   "execution_count": 6,
   "metadata": {},
   "outputs": [
    {
     "name": "stderr",
     "output_type": "stream",
     "text": [
      "/Users/yuchiliu/anaconda3/lib/python3.7/site-packages/ipykernel_launcher.py:10: FutureWarning: Method .as_matrix will be removed in a future version. Use .values instead.\n",
      "  # Remove the CWD from sys.path while we load stuff.\n"
     ]
    }
   ],
   "source": [
    "\"\"\"\n",
    "Step 1: Load data and pre-process data\n",
    "Here we use data loader to read data\n",
    "\"\"\"\n",
    "\n",
    "\n",
    "# define a customise torch dataset\n",
    "class DataFrameDataset(torch.utils.data.Dataset):\n",
    "    def __init__(self, df):\n",
    "        self.data_tensor = torch.Tensor(df.as_matrix())\n",
    "\n",
    "    # a function to get items by index\n",
    "    def __getitem__(self, index):\n",
    "        obj = self.data_tensor[index]\n",
    "        input = self.data_tensor[index][0:-1]\n",
    "        target = self.data_tensor[index][-1] - 1\n",
    "\n",
    "        return input, target\n",
    "\n",
    "    # a function to count samples\n",
    "    def __len__(self):\n",
    "        n, _ = self.data_tensor.shape\n",
    "        return n\n",
    "\n",
    "# load all data\n",
    "data = pd.read_csv('./glass.csv', header=None)\n",
    "\n",
    "# normalise input data\n",
    "for column in data:\n",
    "    # the last column is target\n",
    "    if column != data.shape[1] - 1:\n",
    "        data[column] = data.loc[:, [column]].apply(lambda x: (x - x.mean()) / x.std())\n",
    "\n",
    "# randomly split data into training set (80%) and testing set (20%)\n",
    "msk = np.random.rand(len(data)) < 0.8\n",
    "train_data = data[msk]\n",
    "test_data = data[~msk]\n",
    "\n",
    "# define train dataset and a data loader\n",
    "train_dataset = DataFrameDataset(df=train_data)\n",
    "train_loader = torch.utils.data.DataLoader(train_dataset, batch_size=batch_size, shuffle=True)\n"
   ]
  },
  {
   "cell_type": "code",
   "execution_count": null,
   "metadata": {},
   "outputs": [
    {
     "name": "stdout",
     "output_type": "stream",
     "text": [
      "Epoch [1/500], Loss: 26.5386, Accuracy: 34.71 %\n",
      "Epoch [51/500], Loss: 0.5055, Accuracy: 100.00 %\n",
      "Epoch [101/500], Loss: 0.1224, Accuracy: 100.00 %\n",
      "Epoch [151/500], Loss: 0.0481, Accuracy: 100.00 %\n",
      "Epoch [201/500], Loss: 0.0230, Accuracy: 100.00 %\n",
      "Epoch [251/500], Loss: 0.0130, Accuracy: 100.00 %\n",
      "Epoch [301/500], Loss: 0.0070, Accuracy: 100.00 %\n",
      "Epoch [351/500], Loss: 0.0041, Accuracy: 100.00 %\n",
      "Epoch [401/500], Loss: 0.0024, Accuracy: 100.00 %\n",
      "Epoch [451/500], Loss: 0.0015, Accuracy: 100.00 %\n"
     ]
    },
    {
     "data": {
      "image/png": "[encoded data removed]",
      "text/plain": [
       "<Figure size 432x288 with 1 Axes>"
      ]
     },
     "metadata": {
      "needs_background": "light"
     },
     "output_type": "display_data"
    }
   ],
   "source": [
    "\"\"\"\n",
    "Step 2: Define a neural network \n",
    "\n",
    "Here we build a neural network with one hidden layer.\n",
    "    input layer: 9 neurons, representing the features of Glass\n",
    "    hidden layer: 50 neurons, using Sigmoid as activation function\n",
    "    output layer: 7 neurons, representing the type of glass\n",
    "\"\"\"\n",
    "\n",
    "# TODO\n",
    "\n",
    "# Neural Network\n",
    "class Net(nn.Module):\n",
    "    def __init__(self, input_size, hidden_size, num_classes):\n",
    "        super(Net, self).__init__()\n",
    "\n",
    "\n",
    "    def forward(self, x):\n",
    "\n",
    "        return out\n",
    "\n",
    "\n",
    "net = Net(input_size, hidden_size, num_classes)\n",
    "\n",
    "# Loss and Optimizer\n",
    "criterion = nn.CrossEntropyLoss()\n",
    "optimizer = torch.optim.Adam(net.parameters(), lr=learning_rate)\n",
    "\n",
    "# store all losses for visualisation\n",
    "all_losses = []\n",
    "\n",
    "# train the model by batch\n",
    "for epoch in range(num_epochs):\n",
    "    total = 0\n",
    "    correct = 0\n",
    "    total_loss = 0\n",
    "    for step, (batch_x, batch_y) in enumerate(train_loader):\n",
    "        # convert torch tensor to Variable\n",
    "        X = Variable(batch_x)\n",
    "        Y = Variable(batch_y.long())\n",
    "\n",
    "        # Forward + Backward + Optimize\n",
    "        optimizer.zero_grad()  # zero the gradient buffer\n",
    "        outputs = net(X)\n",
    "        loss = criterion(outputs, Y)\n",
    "        all_losses.append(loss.data)\n",
    "        loss.backward()\n",
    "        optimizer.step()\n",
    "\n",
    "        if (epoch % 50 == 0):\n",
    "            _, predicted = torch.max(outputs, 1)\n",
    "            # calculate and print accuracy\n",
    "            total = total + predicted.size(0)\n",
    "            correct = correct + sum(predicted.data.numpy() == Y.data.numpy())\n",
    "            total_loss = total_loss + loss\n",
    "    if (epoch % 50 == 0):\n",
    "        print('Epoch [%d/%d], Loss: %.4f, Accuracy: %.2f %%'\n",
    "              % (epoch + 1, num_epochs,\n",
    "                 total_loss, 100 * correct/total))\n",
    "\n",
    "# Optional: plotting historical loss from ``all_losses`` during network learning\n",
    "# Please uncomment me from next line to ``plt.show()`` if you want to plot loss\n",
    "\n",
    "import matplotlib.pyplot as plt\n",
    "\n",
    "plt.figure()\n",
    "plt.plot(all_losses)\n",
    "plt.show()"
   ]
  },
  {
   "cell_type": "code",
   "execution_count": 8,
   "metadata": {},
   "outputs": [
    {
     "name": "stdout",
     "output_type": "stream",
     "text": [
      "Confusion matrix for training:\n",
      "tensor([[56.,  0.,  0.,  0.,  0.,  0.,  0.],\n",
      "        [ 0., 63.,  0.,  0.,  0.,  0.,  0.],\n",
      "        [ 0.,  0., 13.,  0.,  0.,  0.,  0.],\n",
      "        [ 0.,  0.,  0.,  0.,  0.,  0.,  0.],\n",
      "        [ 0.,  0.,  0.,  0., 10.,  0.,  0.],\n",
      "        [ 0.,  0.,  0.,  0.,  0.,  6.,  0.],\n",
      "        [ 0.,  0.,  0.,  0.,  0.,  0., 22.]])\n",
      "Testing Accuracy: 95.45 %\n"
     ]
    },
    {
     "name": "stderr",
     "output_type": "stream",
     "text": [
      "/Users/yuchiliu/anaconda3/lib/python3.7/site-packages/ipykernel_launcher.py:13: FutureWarning: Method .as_matrix will be removed in a future version. Use .values instead.\n",
      "  del sys.path[0]\n",
      "/Users/yuchiliu/anaconda3/lib/python3.7/site-packages/ipykernel_launcher.py:14: FutureWarning: Method .as_matrix will be removed in a future version. Use .values instead.\n",
      "  \n",
      "/Users/yuchiliu/anaconda3/lib/python3.7/site-packages/ipykernel_launcher.py:31: FutureWarning: Method .as_matrix will be removed in a future version. Use .values instead.\n",
      "/Users/yuchiliu/anaconda3/lib/python3.7/site-packages/ipykernel_launcher.py:32: FutureWarning: Method .as_matrix will be removed in a future version. Use .values instead.\n"
     ]
    }
   ],
   "source": [
    "\"\"\"\n",
    "Evaluating the Results\n",
    "\n",
    "To see how well the network performs on different categories, we will\n",
    "create a confusion matrix, indicating for every glass (rows)\n",
    "which class the network guesses (columns).\n",
    "\n",
    "\"\"\"\n",
    "\n",
    "train_input = train_data.iloc[:, :input_size]\n",
    "train_target = train_data.iloc[:, input_size]\n",
    "\n",
    "inputs = Variable(torch.Tensor(train_input.as_matrix()).float())\n",
    "targets = Variable(torch.Tensor(train_target.as_matrix() - 1).long())\n",
    "\n",
    "outputs = net(inputs)\n",
    "_, predicted = torch.max(outputs, 1)\n",
    "\n",
    "print('Confusion matrix for training:')\n",
    "print(plot_confusion(train_input.shape[0], num_classes, predicted.long().data, targets.data))\n",
    "\n",
    "\"\"\"\n",
    "Step 3: Test the neural network\n",
    "\n",
    "Pass testing data to the built neural network and get its performance\n",
    "\"\"\"\n",
    "# get testing data\n",
    "test_input = test_data.iloc[:, :input_size]\n",
    "test_target = test_data.iloc[:, input_size]\n",
    "\n",
    "inputs = Variable(torch.Tensor(test_input.as_matrix()).float())\n",
    "targets = Variable(torch.Tensor(test_target.as_matrix() - 1).long())\n",
    "\n",
    "outputs = net(inputs)\n",
    "_, predicted = torch.max(outputs, 1)\n",
    "\n",
    "total = predicted.size(0)\n",
    "correct = predicted.data.numpy() == targets.data.numpy()\n",
    "\n",
    "print('Testing Accuracy: %.2f %%' % (100 * sum(correct)/total))\n",
    "\n"
   ]
  },
  {
   "cell_type": "code",
   "execution_count": 9,
   "metadata": {},
   "outputs": [
    {
     "name": "stdout",
     "output_type": "stream",
     "text": [
      "Confusion matrix for testing:\n",
      "tensor([[14.,  0.,  0.,  0.,  0.,  0.,  0.],\n",
      "        [ 0., 13.,  0.,  0.,  0.,  0.,  0.],\n",
      "        [ 0.,  2.,  2.,  0.,  0.,  0.,  0.],\n",
      "        [ 0.,  0.,  0.,  0.,  0.,  0.,  0.],\n",
      "        [ 0.,  0.,  0.,  0.,  3.,  0.,  0.],\n",
      "        [ 0.,  0.,  0.,  0.,  0.,  3.,  0.],\n",
      "        [ 0.,  0.,  0.,  0.,  0.,  0.,  7.]])\n"
     ]
    }
   ],
   "source": [
    "\"\"\"\n",
    "Evaluating the Results\n",
    "\n",
    "To see how well the network performs on different categories, we will\n",
    "create a confusion matrix, indicating for every glass (rows)\n",
    "which class the network guesses (columns).\n",
    "\n",
    "\"\"\"\n",
    "\n",
    "print('Confusion matrix for testing:')\n",
    "print(plot_confusion(test_input.shape[0], num_classes, predicted.long().data, targets.data))\n"
   ]
  },
  {
   "cell_type": "code",
   "execution_count": null,
   "metadata": {},
   "outputs": [],
   "source": []
  }
 ],
 "metadata": {
  "kernelspec": {
   "display_name": "Python 3",
   "language": "python",
   "name": "python3"
  },
  "language_info": {
   "codemirror_mode": {
    "name": "ipython",
    "version": 3
   },
   "file_extension": ".py",
   "mimetype": "text/x-python",
   "name": "python",
   "nbconvert_exporter": "python",
   "pygments_lexer": "ipython3",
   "version": "3.7.1"
  }
 },
 "nbformat": 4,
 "nbformat_minor": 2
}
